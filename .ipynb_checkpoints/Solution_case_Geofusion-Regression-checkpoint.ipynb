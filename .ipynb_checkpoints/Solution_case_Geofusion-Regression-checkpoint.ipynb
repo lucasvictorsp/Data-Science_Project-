{
 "cells": [
  {
   "cell_type": "markdown",
   "metadata": {},
   "source": [
    "# <span style=\"color:blue\"> <center>Case Geofusion - Predição de Faturamento</center></span>\n",
    "## <center>1. Estimar o faturamento que uma loja teria em cada um dos bairros</center>\n",
    "<center>Solução proposta por Lucas Victor Silva Pereira</center>"
   ]
  },
  {
   "cell_type": "markdown",
   "metadata": {},
   "source": [
    "O objetivo é estimar o faturamento que a empresa terá caso comece a operar nos bairros da cidade de São Paulo. O faturamento nos bairros da cidade do Rio de Janeiro onde a empresa já está consolidada estão à disposição e inclusive já foram tratados.\n",
    "\n",
    "Durante a análise dos dados foi possível constatar que os dados correspondentes a maioria das variáveis da base de dados <font style=\"font-family: monaco\">dfFoodBRJ</font>, correspondem à uma *<font style=\"font-family: monaco\">distribuição normal</font>*. Devido a isso, o método de regressão escolhido foi a **regressão linear**: $$Y \\approx \\beta_0 + \\beta_1 x_{1} + ... + \\beta_{d} X_{d}$$\n",
    "$$Y = \\beta_0 + \\beta_1 x_{1} + ... + \\beta_{d} X_{d} + \\epsilon$$"
   ]
  },
  {
   "cell_type": "code",
   "execution_count": 1,
   "metadata": {},
   "outputs": [],
   "source": [
    "#Required Libraries \n",
    "import numpy as np\n",
    "import pandas as pd\n",
    "import seaborn as sns\n",
    "import matplotlib.pyplot as plt\n",
    "#%matplotlib inline\n",
    "\n",
    "from sklearn.decomposition import PCA\n",
    "from sklearn.preprocessing import StandardScaler\n",
    "\n",
    "from sklearn.decomposition import PCA\n",
    "from sklearn.preprocessing import StandardScaler#, MinMaxScaler, PolynomialFeatures, FunctionTransformer\n",
    "from sklearn.linear_model import LinearRegression, Ridge, RidgeCV, Lasso#, LogisticRegression\n",
    "from sklearn.model_selection import cross_val_score, KFold, StratifiedKFold, train_test_split\n",
    "from sklearn.metrics import mean_squared_error, r2_score"
   ]
  },
  {
   "cell_type": "code",
   "execution_count": 2,
   "metadata": {},
   "outputs": [],
   "source": [
    "#Read and process the database\n",
    "url = 'dataset/DadosDeliciousFood.csv'\n",
    "\n",
    "dfFoodB = pd.read_csv(url, encoding='utf-8')\n",
    "dfFoodB = dfFoodB.drop_duplicates()\n",
    "if (dfFoodB.duplicated('codigo').sum() > 0):\n",
    "    print(\"ALERT: DATA CONFLICT. Check possible solutions with data engineers.\")\n",
    "dfFoodB = dfFoodB.replace('-', np.nan)\n",
    "dfFoodB = dfFoodB.replace('?', np.nan)\n",
    "\n",
    "mask = ((dfFoodB['popAte9'] == 0) & (dfFoodB['popDe10a14'] == 0) & (dfFoodB['popDe15a19'] == 0) & \\\n",
    "        (dfFoodB['popDe20a24'] == 0) & (dfFoodB['popDe25a34'] == 0) & (dfFoodB['popDe35a49'] == 0) & \\\n",
    "        (dfFoodB['popDe50a59'] == 0) & (dfFoodB['popMaisDe60'] == 0)) |\\\n",
    "       ((dfFoodB['domiciliosA1'] == 0) & (dfFoodB['domiciliosA2'] == 0) & (dfFoodB['domiciliosB1'] == 0) & \\\n",
    "        (dfFoodB['domiciliosB2'] == 0) & (dfFoodB['domiciliosC1'] == 0) & (dfFoodB['domiciliosC2'] == 0) & \\\n",
    "        (dfFoodB['domiciliosD'] == 0) & (dfFoodB['domiciliosE'] == 0)) |\\\n",
    "       (dfFoodB['população'] != (dfFoodB['popAte9'] + dfFoodB['popDe10a14'] + dfFoodB['popDe15a19'] + \\\n",
    "                                 dfFoodB['popDe20a24'] + dfFoodB['popDe25a34'] + dfFoodB['popDe35a49'] + \\\n",
    "                                 dfFoodB['popDe50a59'] + dfFoodB['popMaisDe60'])) |\\\n",
    "       ((dfFoodB['rendaMedia'] == 0) & (dfFoodB['faturamento'] == 0))\n",
    "dfFoodB = dfFoodB.loc[~mask]\n",
    "\n",
    "dfFoodBRJ = dfFoodB.loc[dfFoodB['estado'] == \"RJ\"]\n",
    "\n",
    "dfFoodBRJ = dfFoodBRJ.dropna(axis='rows') #remove rows NaN/null\n",
    "\n",
    "dfFoodBRJ = dfFoodBRJ.drop(['codigo','nome','cidade','estado','população'], axis=1)\n",
    "\n",
    "dfFoodBRJP = dfFoodBRJ['potencial']\n",
    "dfFoodBRJ = dfFoodBRJ.drop('potencial', axis=1)\n",
    "\n",
    "dfFoodBRJ = dfFoodBRJ.astype('float')\n",
    "\n",
    "dfFoodBRJ.iloc[:,0:16] = dfFoodBRJ.iloc[:,0:16] / 100\n",
    "dfFoodBRJ['rendaMedia'] = np.log(dfFoodBRJ['rendaMedia'])\n",
    "dfFoodBRJ['faturamento'] = dfFoodBRJ['faturamento'] / 10000\n",
    "\n",
    "mask = (dfFoodBRJ['rendaMedia'] >= 11)\n",
    "dfFoodBRJ = dfFoodBRJ.loc[~mask]"
   ]
  },
  {
   "cell_type": "code",
   "execution_count": 3,
   "metadata": {},
   "outputs": [],
   "source": [
    "scaler = StandardScaler().fit(dfFoodBRJ.drop('faturamento', axis=1))\n",
    "dfFoodBRJPCAX = scaler.transform(dfFoodBRJ.drop('faturamento', axis=1))"
   ]
  },
  {
   "cell_type": "code",
   "execution_count": 4,
   "metadata": {},
   "outputs": [
    {
     "name": "stdout",
     "output_type": "stream",
     "text": [
      "(122, 17)\n",
      "(31, 17)\n",
      "(122, 17)\n",
      "(31, 17)\n"
     ]
    }
   ],
   "source": [
    "x_train, x_test, y_train, y_test = train_test_split(dfFoodBRJPCAX, dfFoodBRJ['faturamento'], test_size = 0.2)\n",
    "print(x_train.shape)\n",
    "print(x_test.shape)\n",
    "print(x_train.shape)\n",
    "print(x_test.shape)"
   ]
  },
  {
   "cell_type": "code",
   "execution_count": 5,
   "metadata": {},
   "outputs": [
    {
     "name": "stdout",
     "output_type": "stream",
     "text": [
      "Variância explicada: [0.70909555 0.19981211 0.03842016 0.02433048]\n",
      "Variância Explicada pelos 4 Primeiros Componentes: 0.9716583022751776\n"
     ]
    }
   ],
   "source": [
    "pca = PCA(n_components=4)\n",
    "\n",
    "x_train = pca.fit_transform(x_train)\n",
    "x_test = pca.transform(x_test)\n",
    "\n",
    "print(\"Variância explicada:\", pca.explained_variance_ratio_)\n",
    "print(\"Variância Explicada pelos 4 Primeiros Componentes:\", pca.explained_variance_ratio_.sum())"
   ]
  },
  {
   "cell_type": "code",
   "execution_count": 6,
   "metadata": {},
   "outputs": [
    {
     "name": "stdout",
     "output_type": "stream",
     "text": [
      "scores = [0.93867269 0.3366214  0.96699439 0.89780736 0.86906167]\n",
      "Accuracy: 80.18%\n"
     ]
    }
   ],
   "source": [
    "lm = LinearRegression()\n",
    "scores = cross_val_score(lm, x_train, y_train, scoring='r2', cv=KFold(n_splits=5, random_state=None, shuffle=True))\n",
    "\n",
    "print(\"scores =\", scores)\n",
    "print(\"Accuracy: %.2f%%\" % (scores.mean()*100.0)) \n",
    "#scores"
   ]
  },
  {
   "cell_type": "code",
   "execution_count": 7,
   "metadata": {},
   "outputs": [],
   "source": [
    "lm.fit(x_train, y_train)\n",
    "\n",
    "y_pred = lm.predict(x_test)"
   ]
  },
  {
   "cell_type": "code",
   "execution_count": 8,
   "metadata": {},
   "outputs": [
    {
     "data": {
      "image/png": "[encoded data removed]",
      "text/plain": [
       "<Figure size 720x432 with 1 Axes>"
      ]
     },
     "metadata": {
      "needs_background": "light"
     },
     "output_type": "display_data"
    }
   ],
   "source": [
    "fig = plt.figure(figsize=(10,6))\n",
    "l = plt.plot(y_pred, y_test, 'bo')\n",
    "plt.setp(l, markersize=10)\n",
    "plt.setp(l, markerfacecolor='C0')\n",
    "\n",
    "plt.ylabel(\"y\", fontsize=15)\n",
    "plt.xlabel(\"Prediction\", fontsize=15)\n",
    "\n",
    "# mostra os valores preditos e originais\n",
    "xl = np.arange(min(y_test), 1.2*max(y_test),(max(y_test)-min(y_test))/10)\n",
    "yl = xl\n",
    "plt.plot(xl, yl, 'r--')\n",
    "\n",
    "plt.show(True)"
   ]
  },
  {
   "cell_type": "code",
   "execution_count": 9,
   "metadata": {},
   "outputs": [
    {
     "name": "stdout",
     "output_type": "stream",
     "text": [
      "R2: 0.877\n",
      "adjusted_r2: 0.858\n",
      "RMSE: 136.766\n"
     ]
    }
   ],
   "source": [
    "R2 = r2_score(y_test, y_pred)\n",
    "print('R2:', round(R2, 3))\n",
    "def adjusted_r2(y_test, y_pred,X_train):\n",
    "    adj_r2 = (1 - ((1 - r2_score(y_test, y_pred)) * (len(y_test) - 1)) / (len(y_test) - X_train.shape[1] - 1))\n",
    "    \n",
    "    return adj_r2\n",
    "\n",
    "print(\"adjusted_r2:\", round(adjusted_r2(y_test, y_pred, x_train), 3))\n",
    "\n",
    "RMSE = mean_squared_error(y_test,y_pred) #RMSE = mean_squared_error(y_test,y_pred,squared=False)\n",
    "print(\"RMSE:\", round(RMSE, 3))"
   ]
  },
  {
   "cell_type": "markdown",
   "metadata": {},
   "source": [
    "### **<center>Regressão Ridge</center>**"
   ]
  },
  {
   "cell_type": "code",
   "execution_count": 10,
   "metadata": {},
   "outputs": [
    {
     "data": {
      "image/png": "[encoded data removed]",
      "text/plain": [
       "<Figure size 432x288 with 1 Axes>"
      ]
     },
     "metadata": {
      "needs_background": "light"
     },
     "output_type": "display_data"
    }
   ],
   "source": [
    "vR2 = []\n",
    "valpha = []\n",
    "r2Max = -1.0\n",
    "alphaMax = -1.0\n",
    "# variamos os valaores de alpha\n",
    "for alpha in np.arange(0,10,0.5):\n",
    "    ridge2 = Ridge(alpha = alpha, normalize = True)\n",
    "    ridge2.fit(x_train, y_train)             # Fit a ridge regression on the training data\n",
    "    y_pred = ridge2.predict(x_test)           # Use this model to predict the test data\n",
    "    r2 = r2_score(y_test, y_pred)\n",
    "    vR2.append(r2)\n",
    "    valpha.append(alpha)\n",
    "    if r2 > r2Max:\n",
    "        r2Max = r2\n",
    "        alphaMax = alpha\n",
    "plt.plot(valpha, vR2, '-ro')\n",
    "plt.xlabel(\"alpha\", fontsize=15)\n",
    "plt.ylabel(\"R2\", fontsize=15)\n",
    "plt.show(True)"
   ]
  },
  {
   "cell_type": "markdown",
   "metadata": {},
   "source": [
    "### **<center>Regressão Lasso</center>**"
   ]
  },
  {
   "cell_type": "code",
   "execution_count": 11,
   "metadata": {},
   "outputs": [
    {
     "data": {
      "image/png": "[encoded data removed]",
      "text/plain": [
       "<Figure size 432x288 with 1 Axes>"
      ]
     },
     "metadata": {
      "needs_background": "light"
     },
     "output_type": "display_data"
    },
    {
     "name": "stdout",
     "output_type": "stream",
     "text": [
      "Alpha-best: 0.21000000000000002\n"
     ]
    }
   ],
   "source": [
    "vR2 = []\n",
    "valpha = []\n",
    "r2Max = -1.0\n",
    "alphaMax = -1.0\n",
    "for alpha in np.arange(0.01,2,0.1):\n",
    "    lasso = Lasso(alpha = alpha, normalize = True)\n",
    "    lasso.fit(x_train, y_train)             # Fit a ridge regression on the training data\n",
    "    y_pred = lasso.predict(x_test)           # Use this model to predict the test data\n",
    "    r2 = r2_score(y_test, y_pred)\n",
    "    vR2.append(r2)\n",
    "    valpha.append(alpha)\n",
    "    if r2 > r2Max:\n",
    "        r2Max = r2\n",
    "        alphaMax = alpha\n",
    "plt.plot(valpha, vR2, '-ro')\n",
    "plt.xlabel(\"alpha\", fontsize=15)\n",
    "plt.ylabel(\"R2\", fontsize=15)\n",
    "plt.show(True)\n",
    "\n",
    "print(\"Alpha-best:\", alphaMax)"
   ]
  },
  {
   "cell_type": "code",
   "execution_count": 12,
   "metadata": {},
   "outputs": [
    {
     "name": "stdout",
     "output_type": "stream",
     "text": [
      "R2: 0.88\n",
      "Adjusted_R2: 0.88\n",
      "RSME: 112.43\n"
     ]
    }
   ],
   "source": [
    "alpha = alphaMax\n",
    "# notice that we need to normalize the attributes: normalize = True\n",
    "lasso = Lasso(alpha=alpha,normalize=True, max_iter=1e5)\n",
    "lasso.fit(x_train, y_train)             # Fit a ridge regression on the training data\n",
    "y_pred = lasso.predict(x_test)           # Use this model to predict the test data\n",
    "RSME = mean_squared_error(y_test, y_pred)         # Calculate the test MSE\n",
    "\n",
    "print('R2:', round(R2, 2))\n",
    "print(\"Adjusted_R2:\", round(adjusted_r2(y_test, y_pred, x_train), 2))\n",
    "print(\"RSME:\", round(RSME, 2))          # Calculate the test MSE"
   ]
  },
  {
   "cell_type": "code",
   "execution_count": 13,
   "metadata": {},
   "outputs": [
    {
     "name": "stdout",
     "output_type": "stream",
     "text": [
      "Coeficientes: C_1, C_2, C_3, C-4: [-0.73956897 21.31574488  5.14291607  0.        ]\n"
     ]
    }
   ],
   "source": [
    "print('Coeficientes: C_1, C_2, C_3, C-4:', lasso.coef_)"
   ]
  },
  {
   "cell_type": "markdown",
   "metadata": {},
   "source": [
    "Tanto *Ridge Regression* quanto *LASSO Regression* deram os melhores resultados como $\\alpha~=~0$. A reta que melhor descreve os dados é dada por: $$y = \\beta_0 + \\beta_1 x + \\beta_2 x + \\beta_3 x + \\beta_4 x$$ onde, os valores de $\\beta_{i}$ aparecem na célula de código acima.\n",
    "\n",
    "Dada essa melhor reta, pode-se predizer os valores de faturamento para os bairros da cidade de São Paulo."
   ]
  },
  {
   "cell_type": "markdown",
   "metadata": {},
   "source": [
    "### **<center>Predizendo os valores de Faturamento para os bairros da cidade de São Paulo</center>**"
   ]
  },
  {
   "cell_type": "code",
   "execution_count": 14,
   "metadata": {},
   "outputs": [],
   "source": [
    "dfFoodBSP = dfFoodB.loc[dfFoodB['estado'] == \"SP\"]\n",
    "\n",
    "dfFoodBSP = dfFoodBSP.drop(['faturamento','potencial'], axis=1)\n",
    "dfFoodBSP = dfFoodBSP.dropna(axis='rows') #remove rows NaN/null\n",
    "dfFoodBSP = dfFoodBSP.drop(['codigo','nome','cidade','estado','população'], axis=1)\n",
    "dfFoodBSP = dfFoodBSP.astype('float')\n",
    "\n",
    "dfFoodBSP.iloc[:,0:16] = dfFoodBSP.iloc[:,0:16] / 100\n",
    "dfFoodBSP['rendaMedia'] = np.log(dfFoodBSP['rendaMedia'])"
   ]
  },
  {
   "cell_type": "code",
   "execution_count": 15,
   "metadata": {},
   "outputs": [],
   "source": [
    "scaler = StandardScaler().fit(dfFoodBSP)\n",
    "dfFoodBSP = scaler.transform(dfFoodBSP)\n",
    "\n",
    "dfFoodBSP = pca.fit_transform(dfFoodBSP)"
   ]
  },
  {
   "cell_type": "code",
   "execution_count": 16,
   "metadata": {},
   "outputs": [],
   "source": [
    "y_pred_SP = lm.predict(dfFoodBSP)\n",
    "#print(y_pred_SP)"
   ]
  }
 ],
 "metadata": {
  "kernelspec": {
   "display_name": "Python 3",
   "language": "python",
   "name": "python3"
  },
  "language_info": {
   "codemirror_mode": {
    "name": "ipython",
    "version": 3
   },
   "file_extension": ".py",
   "mimetype": "text/x-python",
   "name": "python",
   "nbconvert_exporter": "python",
   "pygments_lexer": "ipython3",
   "version": "3.8.8rc1"
  }
 },
 "nbformat": 4,
 "nbformat_minor": 2
}
